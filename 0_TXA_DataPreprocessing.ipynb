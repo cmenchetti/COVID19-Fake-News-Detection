{
 "cells": [
  {
   "cell_type": "markdown",
   "metadata": {},
   "source": [
    "__Authors__: Bruno Javier Limon Avila, Carlo Volpe, Chiara Menchetti, Davide Di Virgilio\n",
    "\n",
    "---\n",
    "\n",
    "## Introduction\n",
    "\n",
    "The main focus of our analysis will be on fake news detection regarding the COVID-19 pandemic. The data comes from the following Kaggle dataset: [COVID-19 Fake News Detection](https://www.kaggle.com/datasets/arashnic/covid19-fake-news). There is a collection of 33 files, however not all of them are going to be used. The ones that will be considered are those containing news (which can be actual news from the web or tweets), disregarding those with claims. \n",
    "\n",
    "In this initial notebook it will be carried out the data loading and pre-processing of the data, which will result in a clean and complete dataset that will be used in the analysis that will follow.\n",
    "\n",
    "## Data Loading\n",
    "\n",
    "The first task is to load the necessary raw files. To make this process easier and faster we have already combined some of the files present in the repository in the the following two:\n",
    "\n",
    "- __*news\\_df*__ contains all the files that had news, namely: _NewsFakeCOVID-19.csv_, _NewsFakeCOVID-19\\_5.csv_, _NewsFakeCOVID-19\\_7.csv_, _NewsRealCOVID-19.csv_, _NewsRealCOVID-19\\_5.csv_ and _NewsRealCOVID-19\\_7.csv_.\n",
    "\n",
    "- __*tweets\\_df*__ contains all the files that had news gathered from Twitter, namely: _NewsFakeCOVID-19\\_tweets.csv_, _NewsFakeCOVID-19\\_tweets\\_5.csv_, _NewsFakeCOVID-19\\_tweets\\_7.csv_, _NewsRealCOVID-19\\_tweets.csv_, _NewsRealCOVID-19\\_tweets\\_5.csv_ and _NewsRealCOVID-19\\_tweets\\_7.csv_.\n",
    "\n",
    "Regarding the __*news\\_df*__, it was simply obtained by the concatenation of the previously reported files. The __*tweets\\_df*__ was a more time consuming task since in the raw files was only present the ID number of the tweet, which required the user to perform theirselves a web-scrabing to get the actual content. The code that was used to get these datasets is commented below."
   ]
  },
  {
   "cell_type": "code",
   "execution_count": 3,
   "metadata": {},
   "outputs": [],
   "source": [
    "# Libraries\n",
    "import pandas as pd\n",
    "import numpy as np\n",
    "import matplotlib.pyplot as plt"
   ]
  },
  {
   "cell_type": "code",
   "execution_count": 4,
   "metadata": {},
   "outputs": [],
   "source": [
    "# Creation of news_dataset.csv \n",
    "\n",
    "# # Files corresponding to news from the web\n",
    "# web_data1 = pd.read_csv('/content/Dataset/FakeNews_Dataset/RawDataset/News/NewsRealCOVID-19.csv')\n",
    "# web_data2 = pd.read_csv('/content/Dataset/FakeNews_Dataset/RawDataset/News/NewsRealCOVID-19_5.csv')\n",
    "# web_data3 = pd.read_csv('/content/Dataset/FakeNews_Dataset/RawDataset/News/NewsRealCOVID-19_7.csv')\n",
    "# web_data4 = pd.read_csv('/content/Dataset/FakeNews_Dataset/RawDataset/News/NewsFakeCOVID-19.csv')\n",
    "# web_data5 = pd.read_csv('/content/Dataset/FakeNews_Dataset/RawDataset/News/NewsFakeCOVID-19_5.csv')\n",
    "# web_data6 = pd.read_csv('/content/Dataset/FakeNews_Dataset/RawDataset/News/NewsFakeCOVID-19_7.csv')\n",
    "\n",
    "# # Putting all web news together\n",
    "# news_real = pd.concat([web_data1,web_data2,web_data3], axis =0)\n",
    "# news_fake = pd.concat([web_data4,web_data5,web_data6], axis =0)\n",
    "\n",
    "# news_real['Fake'] = 0\n",
    "# news_fake['Fake'] = 1\n",
    "\n",
    "# news_dataset = pd.concat([news_real, news_fake], axis=0)\n",
    "\n",
    "# # Saving resulting file containing fake and real news\n",
    "# news_dataset.to_csv('news_dataset.csv',index = False)"
   ]
  },
  {
   "cell_type": "code",
   "execution_count": 5,
   "metadata": {},
   "outputs": [],
   "source": [
    "# # Creation of tweet_news_dataset.csv\n",
    "\n",
    "# # Files corresponding to news from twitter, they contain an id which will be used to retrieve their content\n",
    "# twt_data1 = pd.read_csv('COVID-19_FakeNews/NewsRealCOVID-19_tweets.csv')\n",
    "# twt_data2 = pd.read_csv('COVID-19_FakeNews/NewsRealCOVID-19_tweets_5.csv')\n",
    "# twt_data3 = pd.read_csv('COVID-19_FakeNews/NewsRealCOVID-19_tweets_7.csv')\n",
    "# twt_data4 = pd.read_csv('COVID-19_FakeNews/NewsFakeCOVID-19_tweets.csv')\n",
    "# twt_data5 = pd.read_csv('COVID-19_FakeNews/NewsFakeCOVID-19_tweets_5.csv')\n",
    "# twt_data6 = pd.read_csv('COVID-19_FakeNews/NewsFakeCOVID-19_tweets_7.csv')\n",
    "\n",
    "# # Putting all twitter ids together\n",
    "# twt_news_real = pd.concat([twt_data1,twt_data2,twt_data3], axis = 0)\n",
    "# twt_news_fake = pd.concat([twt_data4,twt_data5,twt_data6], axis = 0)\n",
    "\n",
    "# # Adding labels\n",
    "# twt_news_real['Fake'] = 0\n",
    "# twt_news_fake['Fake'] = 1\n",
    "\n",
    "# # Full dataset of twitter ids\n",
    "# twt_news_dataset = pd.concat([twt_news_real, twt_news_fake], axis = 0)\n",
    "\n",
    "# # Using tweepy to communicate with the twitter API and retrieve the content of the tweets based on the id provided  \n",
    "# # !pip install tweepy\n",
    "# import tweepy\n",
    "# client = tweepy.Client(\"AAAAAAAAAAAAAAAAAAAAAEKljAEAAAAAN%2FUO5WzSWGs8OcXpakqONnD99Js%3DufZ\"\n",
    "#                        +\"i40hcECrvPzQKDbvphCk0imNiLpo7N2xfBqLtS1huN9jPjs\", wait_on_rate_limit=True)\n",
    "\n",
    "# # Creating a dictionary that indicates which twitter id is fake and which is real, to use later to assign correct label to content\n",
    "# twt_ids = list(twt_news_dataset.iloc[:,1])\n",
    "# twt_fake = list(twt_news_dataset.iloc[:,2])\n",
    "# tweet_dictionary = dict(zip(twt_ids, twt_fake))\n",
    "\n",
    "# # Using a for loop to fetch the tweets in batches of 100 ids to get the content using the tweepy client\n",
    "# tweet_temp_content = []\n",
    "# j = 100\n",
    "# for i in range(0, 152000, 100):\n",
    "#     get_tweet = client.get_tweets(twt_ids[i:j])\n",
    "#     tweet_data = get_tweet.data\n",
    "#     tweet_temp_content.append(tweet_data)\n",
    "#     j = j+100\n",
    "    \n",
    "# # Flattening the results of the previous fetching to get all news in a single list\n",
    "# tweet_flat = []\n",
    "# for i in range(len(tweet_temp_content)):\n",
    "#     tweet_flat += tweet_temp_content[i]\n",
    "    \n",
    "# # looping through the news list to single out possible empty values and assign them the appropriate values\n",
    "# content = []\n",
    "# content_id = []\n",
    "# for i in range(len(tweet_flat)):\n",
    "#     if tweet_flat[i]:\n",
    "#         temp = tweet_flat[i].text\n",
    "#         temp_id = tweet_flat[i].id\n",
    "#         content.append(temp)\n",
    "#         content_id.append(temp_id)\n",
    "#     else:\n",
    "#         temp = \"NULL\"\n",
    "#         content.append(temp)\n",
    "        \n",
    "# # Creating a dataframe with the ids and content of the tweets\n",
    "# tweet_news_dataset = pd.DataFrame(list(zip(content_id, content)), columns = ['tweet_id', 'tweet_content'])\n",
    "\n",
    "# # Using the previous dictionary to assign the label to each record\n",
    "# tweet_id = list(tweet_news_dataset.iloc[:,0])\n",
    "# tweet_fake = []\n",
    "# tweet_fake.extend(range(0, len(tweet_id)))\n",
    "# for i in range(len(tweet_id)):\n",
    "#     for key, value in tweet_dictionary.items():\n",
    "#         if tweet_id[i] == key:\n",
    "#             tweet_fake[i] = value\n",
    "            \n",
    "# # Add 'fake' column to indicate wether it's fake or real\n",
    "# tweet_news_dataset['fake'] = tweet_fake\n",
    "\n",
    "# # Saving final file\n",
    "# tweet_news_dataset.to_csv('tweet_news_dataset.csv',index = False)"
   ]
  },
  {
   "cell_type": "markdown",
   "metadata": {},
   "source": [
    "After creating these two datasets, it was necessary to combine them into one. For the news dataset only the headline of the articles is kept as content. So, the dataset will contain the content and the label variables. The label will be indicated as _fake_ and it will take 1 if the article/tweet is fake and 0 if it is instead real."
   ]
  },
  {
   "cell_type": "code",
   "execution_count": 6,
   "metadata": {},
   "outputs": [],
   "source": [
    "# # Code for combining the two datasets \n",
    "#\n",
    "# # Load the data\n",
    "# news_df = pd.read_csv('data/news_dataset.csv')\n",
    "# tweets_df = pd.read_csv('data/tweet_news_dataset.csv')\n",
    "#\n",
    "# # Select only the necessary variables from news_df and change their names\n",
    "# news_df_new = news_df[['title', 'Fake']]\n",
    "# news_df_new.columns = ['content', 'fake']\n",
    "#\n",
    "# # Select only the necessary variables from tweets_df and change their names\n",
    "# tweets_df_new = tweets_df[['tweets_content', 'fake']]\n",
    "# tweets_df_new.columns = ['content', 'fake']\n",
    "#\n",
    "# # Concatenate the two new dataframes\n",
    "# df = pd.concat([news_df_new, tweets_df_new])\n",
    "#\n",
    "# # Save the dataframe into a .csv file\n",
    "# df.to_csv('data/df_tweets_news_completo.csv', index=False)"
   ]
  },
  {
   "cell_type": "markdown",
   "metadata": {},
   "source": [
    "In the zip folder of the material it has been included a data folder where you can find this complete dataset, namely __*df\\_tweets\\_news\\_completo.csv*__. Having now the data into one file, the next step is the pre-processing.   \n",
    "\n",
    "## Data Pre-Processing\n",
    "\n",
    "Since the above codes may not be runned, the complete dataset in __*df\\_tweets\\_news\\_completo.csv*__ can be loaded as a pandas dataframe, ready to be used."
   ]
  },
  {
   "cell_type": "code",
   "execution_count": 20,
   "metadata": {},
   "outputs": [
    {
     "name": "stdout",
     "output_type": "stream",
     "text": [
      "(129880, 2)\n"
     ]
    },
    {
     "data": {
      "text/html": [
       "<div>\n",
       "<style scoped>\n",
       "    .dataframe tbody tr th:only-of-type {\n",
       "        vertical-align: middle;\n",
       "    }\n",
       "\n",
       "    .dataframe tbody tr th {\n",
       "        vertical-align: top;\n",
       "    }\n",
       "\n",
       "    .dataframe thead th {\n",
       "        text-align: right;\n",
       "    }\n",
       "</style>\n",
       "<table border=\"1\" class=\"dataframe\">\n",
       "  <thead>\n",
       "    <tr style=\"text-align: right;\">\n",
       "      <th></th>\n",
       "      <th>content</th>\n",
       "      <th>fake</th>\n",
       "    </tr>\n",
       "  </thead>\n",
       "  <tbody>\n",
       "    <tr>\n",
       "      <th>0</th>\n",
       "      <td>What We Can Learn from the Resurgence of COVID...</td>\n",
       "      <td>0</td>\n",
       "    </tr>\n",
       "    <tr>\n",
       "      <th>1</th>\n",
       "      <td>Why Approving a COVID-19 Vaccine Too Early Cou...</td>\n",
       "      <td>0</td>\n",
       "    </tr>\n",
       "    <tr>\n",
       "      <th>2</th>\n",
       "      <td>Not Sure You Have COVID-19? Here Are the Sympt...</td>\n",
       "      <td>0</td>\n",
       "    </tr>\n",
       "    <tr>\n",
       "      <th>3</th>\n",
       "      <td>Flu Study Highlights Difficulty of Achieving C...</td>\n",
       "      <td>0</td>\n",
       "    </tr>\n",
       "    <tr>\n",
       "      <th>4</th>\n",
       "      <td>Resign or Return? The Dilemma Facing Classroom...</td>\n",
       "      <td>0</td>\n",
       "    </tr>\n",
       "  </tbody>\n",
       "</table>\n",
       "</div>"
      ],
      "text/plain": [
       "                                             content  fake\n",
       "0  What We Can Learn from the Resurgence of COVID...     0\n",
       "1  Why Approving a COVID-19 Vaccine Too Early Cou...     0\n",
       "2  Not Sure You Have COVID-19? Here Are the Sympt...     0\n",
       "3  Flu Study Highlights Difficulty of Achieving C...     0\n",
       "4  Resign or Return? The Dilemma Facing Classroom...     0"
      ]
     },
     "execution_count": 20,
     "metadata": {},
     "output_type": "execute_result"
    }
   ],
   "source": [
    "# Load the complete dataset\n",
    "df = pd.read_csv('df_tweets_news_completo.csv')\n",
    "df=df.drop([\"Unnamed: 0\"], axis=1)\n",
    "print(df.shape)\n",
    "df.head()"
   ]
  },
  {
   "cell_type": "markdown",
   "metadata": {},
   "source": [
    "As of now, in the dataset there are 129880 records between headlines and tweets.\n",
    "\n",
    "The following phase is to clean the dataset by converting all the text to lower case letters, removing links, mentions, emojis and other unnecessary characters."
   ]
  },
  {
   "cell_type": "code",
   "execution_count": 21,
   "metadata": {},
   "outputs": [
    {
     "name": "stderr",
     "output_type": "stream",
     "text": [
      "<ipython-input-21-3832d6a33f09>:5: FutureWarning: The default value of regex will change from True to False in a future version.\n",
      "  df_clean['content'] = df['content'].str.lower()\\\n"
     ]
    }
   ],
   "source": [
    "# copy the dataset\n",
    "df_clean = df.copy()\n",
    "\n",
    "# convert to lower case letters and remove unnecessary information \n",
    "df_clean['content'] = df['content'].str.lower()\\\n",
    "    .str.replace('(@[a-z0-9]+)\\w+',' ')\\\n",
    "    .str.replace('(http\\S+)', ' ')\\\n",
    "    .str.replace('(?::|;|=)(?:-)?(?:\\)|\\(|D|P)', ' ')\\\n",
    "    .str.replace('([^0-9a-z \\t])', ' ')\\\n",
    "    .str.replace(' +',' ')"
   ]
  },
  {
   "cell_type": "markdown",
   "metadata": {},
   "source": [
    "It may happen that data may contain duplicates, and since the data was not collected by us, it is normal procedure to check the content variable. And if there are any duplicates it is necessary to drop them."
   ]
  },
  {
   "cell_type": "code",
   "execution_count": 22,
   "metadata": {},
   "outputs": [
    {
     "name": "stdout",
     "output_type": "stream",
     "text": [
      "Duplicate Rows : 44530\n"
     ]
    }
   ],
   "source": [
    "# Check if there are any duplicates\n",
    "duplicate = df_clean[df_clean.duplicated()]\n",
    "print(\"Duplicate Rows :\", duplicate.shape[0])"
   ]
  },
  {
   "cell_type": "code",
   "execution_count": 23,
   "metadata": {},
   "outputs": [
    {
     "name": "stdout",
     "output_type": "stream",
     "text": [
      "The number of records in the dataset now is:  85350\n"
     ]
    }
   ],
   "source": [
    "# Drop the duplicates\n",
    "df_clean = df_clean.drop_duplicates()\n",
    "print('The number of records in the dataset now is: ', df_clean.shape[0])"
   ]
  },
  {
   "cell_type": "markdown",
   "metadata": {},
   "source": [
    "The number of the observations in the dataset has dropped by a lot by removing the duplicates. \n",
    "\n",
    "After this reduction, the data was checked manually to see if everything was okay. However, in the dataset at this points there are still some records having almost equal content. An example of this can be shown below, by printing some of the rows. "
   ]
  },
  {
   "cell_type": "code",
   "execution_count": 24,
   "metadata": {},
   "outputs": [
    {
     "data": {
      "text/plain": [
       "129413    bill gates explains that the covid vaccine wil...\n",
       "129414    bill gates explains that the covid vaccine wil...\n",
       "129421    bill gates explains that the covid vaccine wil...\n",
       "129424    bill gates explains that the covid vaccine wil...\n",
       "129429    bill gates explains that the covid vaccine wil...\n",
       "Name: content, dtype: object"
      ]
     },
     "execution_count": 24,
     "metadata": {},
     "output_type": "execute_result"
    }
   ],
   "source": [
    "# Almost identical observations that were not caught as duplicates\n",
    "df_clean['content'][85064:85069]"
   ]
  },
  {
   "cell_type": "markdown",
   "metadata": {},
   "source": [
    "The idea to deal with this issue is to create a copy of the dataset but containing only the first 30 characters of the content variable. Then the duplicate function will be used again on this dataframe and the indexes of the this records will be removed from the original cleaned dataframe. \n",
    "\n",
    "To clarify, this might not be a problem (to have some almost identical records), however to make the classification more interesting it was decided to procede in this direction. "
   ]
  },
  {
   "cell_type": "code",
   "execution_count": 25,
   "metadata": {},
   "outputs": [
    {
     "name": "stdout",
     "output_type": "stream",
     "text": [
      "Duplicate Rows:  18669\n",
      "The number of records in the dataset now is:  66681\n"
     ]
    }
   ],
   "source": [
    "# Copy the dataframe\n",
    "df_copy = df_clean.copy()\n",
    "\n",
    "# Leave only the first 30 characters of the content variable\n",
    "df_copy['content'] = df_copy['content'].str[0:30]\n",
    "\n",
    "# Check for duplicates\n",
    "duplicate2 = df_copy[df_copy.duplicated()]\n",
    "print('Duplicate Rows: ', duplicate2.shape[0])\n",
    "\n",
    "# Drop the duplicates\n",
    "df_without_duplicates = df_clean.drop(index=duplicate2.index)\n",
    "print('The number of records in the dataset now is: ', df_without_duplicates.shape[0])"
   ]
  },
  {
   "cell_type": "markdown",
   "metadata": {},
   "source": [
    "The size of the dataset has shrunk some more, but at least the data is clean and without any duplicates. So, this data can be saved into a .csv file, to be exploited for the following analysis. "
   ]
  },
  {
   "cell_type": "code",
   "execution_count": null,
   "metadata": {},
   "outputs": [],
   "source": [
    "# Save in a .csv file\n",
    "df_without_duplicates.to_csv('data/df_without_duplicates.csv', index=False) "
   ]
  },
  {
   "cell_type": "markdown",
   "metadata": {},
   "source": [
    "## Data Understanding\n",
    "\n",
    "First of all it is necessary to check the proportion of real and fake news inside the pre-processed dataset."
   ]
  },
  {
   "cell_type": "code",
   "execution_count": 27,
   "metadata": {},
   "outputs": [
    {
     "data": {
      "text/plain": [
       "0    122858\n",
       "1      7022\n",
       "Name: fake, dtype: int64"
      ]
     },
     "execution_count": 27,
     "metadata": {},
     "output_type": "execute_result"
    }
   ],
   "source": [
    "df['fake'].value_counts()"
   ]
  },
  {
   "cell_type": "code",
   "execution_count": 29,
   "metadata": {},
   "outputs": [
    {
     "data": {
      "text/plain": [
       "0    0.945935\n",
       "1    0.054065\n",
       "Name: fake, dtype: float64"
      ]
     },
     "execution_count": 29,
     "metadata": {},
     "output_type": "execute_result"
    }
   ],
   "source": [
    "df['fake'].value_counts(normalize=True)"
   ]
  },
  {
   "cell_type": "code",
   "execution_count": 28,
   "metadata": {},
   "outputs": [
    {
     "data": {
      "text/plain": [
       "<AxesSubplot:ylabel='fake'>"
      ]
     },
     "execution_count": 28,
     "metadata": {},
     "output_type": "execute_result"
    },
    {
     "data": {
      "image/png": "[encoded data removed]",
      "text/plain": [
       "<Figure size 432x288 with 1 Axes>"
      ]
     },
     "metadata": {},
     "output_type": "display_data"
    }
   ],
   "source": [
    "df['fake'].value_counts().plot(kind='pie')"
   ]
  },
  {
   "cell_type": "markdown",
   "metadata": {},
   "source": [
    "The dataset is higly unbalanced (0: 122858 (0.95); 1: 7022 (0.05)). This should be taken into consideration when performing any supervised classification algorithm.\n",
    "\n",
    "The other variable in the dataframe, beside the label, is the text of the tweets and header of the article. To understand the content, the most frequent words can be plotted into a wordcloud. Before doing this the variable is tokenized and the stopwords are removed."
   ]
  },
  {
   "cell_type": "code",
   "execution_count": null,
   "metadata": {},
   "outputs": [],
   "source": [
    "import nltk\n",
    "nltk.download('stopwords')\n",
    "\n",
    "# text cleaning\n",
    "from nltk.corpus import stopwords\n",
    "\n",
    "additional  = ['rt','rts','retweet']\n",
    "swords = set().union(stopwords.words('english'),additional)\n",
    "\n",
    "df['processed_text'] = df['content'].apply(lambda x: [i for i in x.split() if not i in swords])"
   ]
  },
  {
   "cell_type": "code",
   "execution_count": null,
   "metadata": {},
   "outputs": [],
   "source": [
    "# wordcloud of the whole dataset\n",
    "from wordcloud import WordCloud, STOPWORDS\n",
    "\n",
    "bigstring = df['processed_text'].apply(lambda x: ' '.join(x)).str.cat(sep=' ')\n",
    "\n",
    "plt.figure(figsize=(12,12))\n",
    "wordcloud = WordCloud(stopwords=STOPWORDS,\n",
    "                          background_color='white',\n",
    "                          collocations=False,\n",
    "                          width=1200,\n",
    "                          height=1000\n",
    "                         ).generate(bigstring)\n",
    "plt.axis('off')\n",
    "plt.imshow(wordcloud)"
   ]
  },
  {
   "cell_type": "markdown",
   "metadata": {},
   "source": [
    "Since there are some very frequent words, which we already know are the main topic of the dataset, we can remove them and re-do the wordcloud."
   ]
  },
  {
   "cell_type": "code",
   "execution_count": null,
   "metadata": {},
   "outputs": [],
   "source": [
    "# wordcloud without some words\n",
    "stopwords_1 = [\"coronavirus\", \"covid19\",\"covid\",'u'] + list(STOPWORDS)\n",
    "\n",
    "plt.figure(figsize=(12,12))\n",
    "wordcloud = WordCloud(stopwords=STOPWORDS,\n",
    "                          background_color='white',\n",
    "                          collocations=False,\n",
    "                          width=1200,\n",
    "                          height=1000\n",
    "                         ).generate(bigstring)\n",
    "plt.axis('off')\n",
    "plt.imshow(wordcloud)"
   ]
  }
 ],
 "metadata": {
  "kernelspec": {
   "display_name": "Python 3.9.13 ('base')",
   "language": "python",
   "name": "python3"
  },
  "language_info": {
   "codemirror_mode": {
    "name": "ipython",
    "version": 3
   },
   "file_extension": ".py",
   "mimetype": "text/x-python",
   "name": "python",
   "nbconvert_exporter": "python",
   "pygments_lexer": "ipython3",
   "version": "3.9.13"
  },
  "vscode": {
   "interpreter": {
    "hash": "6176d69742e970ae072d284e46ebbd7a621ced92ebd7cb968aa6e97a788d6d53"
   }
  }
 },
 "nbformat": 4,
 "nbformat_minor": 4
}
